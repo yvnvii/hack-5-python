{
 "cells": [
  {
   "cell_type": "code",
   "execution_count": 15,
   "id": "34ff5c75-63ba-4255-8d5c-cae3dc6a2219",
   "metadata": {},
   "outputs": [],
   "source": [
    "def init(N, f): #N = the size of the population in number of haploid individuals, f = the frequency of derived alleles\n",
    "    mylist = []\n",
    "    for A in range(int(N*f)):\n",
    "        mylist.append(1)\n",
    "    for a in range(int(N-(N*f))):\n",
    "        mylist.append(0)\n",
    "    return mylist"
   ]
  },
  {
   "cell_type": "code",
   "execution_count": 71,
   "id": "19e5421d-7805-41e2-9dba-6ce300f6b732",
   "metadata": {},
   "outputs": [],
   "source": [
    "import random\n",
    "def step(pop):\n",
    "    num0 = 0\n",
    "    num1 = 0\n",
    "    for i in pop:\n",
    "        if i == 0:\n",
    "            num0 +=1\n",
    "        if i == 1:\n",
    "            num1 +=1\n",
    "    f = num1/(num0+num1)\n",
    "    numlist = [1, 0]\n",
    "    newlist = random.choices(numlist, weights = [f, 1-f], k = len(pop))\n",
    "    return newlist"
   ]
  },
  {
   "cell_type": "code",
   "execution_count": 131,
   "id": "f698bdca-1e30-4ba3-9286-151c90e1565b",
   "metadata": {},
   "outputs": [
    {
     "name": "stdout",
     "output_type": "stream",
     "text": [
      "generations: 25; freq(a): 0.4\n"
     ]
    }
   ],
   "source": [
    "def wf(N, f, gen): #N=population size, f=frequency, gen=numbebr of generations to run\n",
    "    initial = init(N, f)\n",
    "    newlist = initial\n",
    "    for i in range(2,gen+1):\n",
    "        newlist = step(newlist)\n",
    "    num1 = 0\n",
    "    num0 = 0\n",
    "    for j in newlist:\n",
    "        if j == 1:\n",
    "            num1+=1\n",
    "        if j == 0:\n",
    "            num0+=1\n",
    "    freq = num1/(num0+num1)\n",
    "    print(f\"generations: {gen}; freq(a): {freq}\")\n",
    "\n",
    "wf(10, 0.5, 25)"
   ]
  },
  {
   "cell_type": "code",
   "execution_count": null,
   "id": "5204f99a-8185-4e86-ad60-d2ec24d67f9f",
   "metadata": {},
   "outputs": [],
   "source": []
  },
  {
   "cell_type": "code",
   "execution_count": null,
   "id": "46a1c505-3fa0-42c0-b5e0-9628da9427a1",
   "metadata": {},
   "outputs": [],
   "source": []
  }
 ],
 "metadata": {
  "kernelspec": {
   "display_name": "Python 3 (ipykernel)",
   "language": "python",
   "name": "python3"
  },
  "language_info": {
   "codemirror_mode": {
    "name": "ipython",
    "version": 3
   },
   "file_extension": ".py",
   "mimetype": "text/x-python",
   "name": "python",
   "nbconvert_exporter": "python",
   "pygments_lexer": "ipython3",
   "version": "3.12.2"
  }
 },
 "nbformat": 4,
 "nbformat_minor": 5
}
