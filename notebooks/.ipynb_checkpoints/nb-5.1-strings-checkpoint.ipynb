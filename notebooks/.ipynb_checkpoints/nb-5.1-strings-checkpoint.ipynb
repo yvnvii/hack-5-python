{
 "cells": [
  {
   "cell_type": "markdown",
   "metadata": {},
   "source": [
    "# Notebook 5.1: String operations"
   ]
  },
  {
   "cell_type": "markdown",
   "metadata": {},
   "source": [
    "A \"string\" is the name used in Python for 'strings of characters' such as words, sentences, or paragraphs of text. It is one of the most basic data types and one that Python is very good at working with. In fact, the ease with which Python can be used to manipulate text is one of the primary reasons it bas become such a popular language for both scientific programming as well and web development. "
   ]
  },
  {
   "cell_type": "markdown",
   "metadata": {},
   "source": [
    "### Create a string object\n",
    "Below we assign a string object to a variable name using the `=` sign."
   ]
  },
  {
   "cell_type": "code",
   "execution_count": null,
   "metadata": {},
   "outputs": [],
   "source": [
    "mystring = \"a string of text\""
   ]
  },
  {
   "cell_type": "markdown",
   "metadata": {},
   "source": [
    "### Indexing and slicing\n",
    "Strings are an *indexed* datatype that is *immutable*. This means that we can select portions of the text using indexed numbering, but we cannot modify individual parts of it. When you take an index or slice of a variable a new variable is *returned*. Unless you store that returned variable, however, it is not saved, and the original string variable is unchanged unless you overwrite the variable name. "
   ]
  },
  {
   "cell_type": "code",
   "execution_count": null,
   "metadata": {},
   "outputs": [],
   "source": [
    "# indexing: select the first element of a string (Python index starts at 0)\n",
    "mystring[0]"
   ]
  },
  {
   "cell_type": "code",
   "execution_count": null,
   "metadata": {},
   "outputs": [],
   "source": [
    "# indexing: select the last element (negative indexes start from the end)\n",
    "mystring[-1]"
   ]
  },
  {
   "cell_type": "code",
   "execution_count": null,
   "metadata": {},
   "outputs": [],
   "source": [
    "# indexing: select a range of elements with a slice (e.g., first:last)\n",
    "mystring[0:8]"
   ]
  },
  {
   "cell_type": "code",
   "execution_count": null,
   "metadata": {},
   "outputs": [],
   "source": [
    "# indexing: the above could also be written as [:8] meaning from start to index 8\n",
    "mystring[:8]"
   ]
  },
  {
   "cell_type": "code",
   "execution_count": null,
   "metadata": {},
   "outputs": [],
   "source": [
    "# indexing: this means index -3 until the end.\n",
    "mystring[-3:]"
   ]
  },
  {
   "cell_type": "markdown",
   "metadata": {},
   "source": [
    "### Strings can be combined or reassigned\n"
   ]
  },
  {
   "cell_type": "code",
   "execution_count": null,
   "metadata": {},
   "outputs": [],
   "source": [
    "# create new string objects and assign to variables\n",
    "string1 = \"a new string \"\n",
    "string2 = \"bigger than the last string\""
   ]
  },
  {
   "cell_type": "code",
   "execution_count": null,
   "metadata": {},
   "outputs": [],
   "source": [
    "# combine them and assign the result to another variable\n",
    "newstring = string1 + string2\n",
    "newstring"
   ]
  },
  {
   "cell_type": "markdown",
   "metadata": {},
   "source": [
    "### You cannot mutate string objects\n",
    "Attempts to assign a value to an index or slice of a string will raise an error because strings are *immutable*. We can take an index or slice of a string to return part of it, but cannot change it *in place*. Instead, we can replace the variable storing a string object with a new string. "
   ]
  },
  {
   "cell_type": "code",
   "execution_count": null,
   "metadata": {},
   "outputs": [],
   "source": [
    "# error: you cannot assign to an index inside a string.\n",
    "mystring[0] = \"A\""
   ]
  },
  {
   "cell_type": "markdown",
   "metadata": {},
   "source": [
    "### How do you modify strings then?\n",
    "You assign a new string to the same named variable. This can be done using indexing or concatenation, or several other ways as well as we'll see. This may seem a little nuanced, but you'll see later how this varies among different objects, some of which are mutable and others which are not. The example below creates a new string by adding \"A\" to the previous string indexed from 1 until the end."
   ]
  },
  {
   "cell_type": "code",
   "execution_count": null,
   "metadata": {},
   "outputs": [],
   "source": [
    "## you could do this instead\n",
    "newstring = \"A\" + mystring[1:]\n",
    "newstring"
   ]
  },
  {
   "cell_type": "markdown",
   "metadata": {},
   "source": [
    "## Built-in string functions\n",
    "String variables are a type of data object in Python, and just like all objects in Python this means that they have more information than just the value that we assigned to it. For example, string objects store the length of the string that is stored, and they have many `functions` that can be called to manipulate that string. These `'attributes'` and `'functions'` can be accessed by using tab-completion on an object in jupyter. After the period at the end of `mystring` below hit tab to see the options displayed. "
   ]
  },
  {
   "cell_type": "code",
   "execution_count": null,
   "metadata": {},
   "outputs": [],
   "source": [
    "# put your cursor after the period below and press <tab> to see available options\n",
    "mystring."
   ]
  },
  {
   "cell_type": "markdown",
   "metadata": {},
   "source": [
    "### Example builtins\n",
    "The examples below call `functions` associated with string objects."
   ]
  },
  {
   "cell_type": "code",
   "execution_count": null,
   "metadata": {},
   "outputs": [],
   "source": [
    "# this capitalizes the first character of the string\n",
    "mystring.capitalize()"
   ]
  },
  {
   "cell_type": "code",
   "execution_count": null,
   "metadata": {},
   "outputs": [],
   "source": [
    "# this splits the string into a 'list' where ever there is whitespace\n",
    "mystring.split()"
   ]
  },
  {
   "cell_type": "code",
   "execution_count": null,
   "metadata": {},
   "outputs": [],
   "source": [
    "# this centers the text across a width of 40\n",
    "mystring.center(40)"
   ]
  },
  {
   "cell_type": "code",
   "execution_count": null,
   "metadata": {},
   "outputs": [],
   "source": [
    "# this prints the index of the searched word starting from the left\n",
    "mystring.find(\"of\")"
   ]
  },
  {
   "cell_type": "markdown",
   "metadata": {},
   "source": [
    "### Modifying strings\n",
    "In the examples above we applied a function to `mystring` which returned a new string object that was printed into the output location below the cell. The new string object was not stored, and so it is lost.\n",
    "\n",
    "Because the returned value wasn't saved it was \"garbage-collected\" by Python, meaning that it's space in memory was erased. If we want to store the result we need to assign it to a variable. This is done below, where you see `mystring` is changed after we run the command."
   ]
  },
  {
   "cell_type": "code",
   "execution_count": null,
   "metadata": {},
   "outputs": [],
   "source": [
    "# here mystring is replaced by a new string where the first character is capitalized.\n",
    "mystring = mystring.capitalize()\n",
    "mystring"
   ]
  },
  {
   "cell_type": "code",
   "execution_count": null,
   "metadata": {},
   "outputs": [],
   "source": [
    "# let's create a new variable like the original that is not capitalized\n",
    "lower_string = mystring.lower()\n",
    "lower_string"
   ]
  },
  {
   "cell_type": "markdown",
   "metadata": {},
   "source": [
    "### The `print()` function\n",
    "\n",
    "The fact that a variable name appears when you simply execute a cell that has the object on the last line is a convenience of jupyter. It is showing you what the object is. In the case of a string it shows the content with quotes around it to indicate it is a string.\n",
    "\n",
    "A more formal way to show the contents of a string is by using the `print()` function. You can see that the first example below simply returns an object, showing quotes around the text to indicate it is a string object. The second way, using print, prints just the text. "
   ]
  },
  {
   "cell_type": "code",
   "execution_count": null,
   "metadata": {},
   "outputs": [],
   "source": [
    "# you return a variable's value by entering just the variable\n",
    "mystring"
   ]
  },
  {
   "cell_type": "code",
   "execution_count": null,
   "metadata": {},
   "outputs": [],
   "source": [
    "# or you can use the print() function, which prints it to stdout\n",
    "print(mystring)"
   ]
  },
  {
   "cell_type": "code",
   "execution_count": null,
   "metadata": {},
   "outputs": [],
   "source": [
    "# In Python3 but not Py2 print of multiple strings is concatenated\n",
    "print(mystring, lower_string)"
   ]
  },
  {
   "cell_type": "markdown",
   "metadata": {},
   "source": [
    "### Single, double, and triple quotes\n",
    "What is the difference between single, double, or triple quotes when creating strings. \n",
    "There is little difference, but by providing redundancy \n",
    "it is easier to find ways to write strings that include quotes inside of them. For example, to write a string that contains single quotes you can wrap it in double quotes. "
   ]
  },
  {
   "cell_type": "code",
   "execution_count": null,
   "metadata": {},
   "outputs": [],
   "source": [
    "## examples of printing strings\n",
    "print(\"hello world\")\n",
    "print('printing in single quotes is the same as in double quotes')\n",
    "print(\"'you can make strings that include single quotes by putting them inside doubles'\")\n",
    "print('\"you can make strings that include double quotes by putting them inside singles\"')\n",
    "print(\"\"\"\n",
    "multi-line string with mixed single and double\n",
    "quotes can all be captured inside triple-quotes.\n",
    "This also interprets the starting line as a newline.\n",
    "\"\"\")"
   ]
  },
  {
   "cell_type": "markdown",
   "metadata": {},
   "source": [
    "### Formatted printing\n",
    "There are several ways to insert string variables into another string to automate the process of writing long strings in Python. We will focus on two methods: fstrings and formatting.  \n",
    "\n",
    "These allow you to substitute variables into a string when printing by using curly braces to indicate the position where elements should be inserted. Let's see some examples."
   ]
  },
  {
   "cell_type": "code",
   "execution_count": null,
   "metadata": {},
   "outputs": [],
   "source": [
    "# substite variables into the curly braces\n",
    "dog = \"dog\"\n",
    "cat = \"cat\"\n",
    "print(\"the {} is meaner than the {}\".format(dog, cat))"
   ]
  },
  {
   "cell_type": "code",
   "execution_count": null,
   "metadata": {},
   "outputs": [],
   "source": [
    "# use indexing to indicate the order of filling\n",
    "dog = \"dog\"\n",
    "cat = \"cat\"\n",
    "print(\"the {1} is meaner than the {0}\".format(dog, cat))"
   ]
  },
  {
   "cell_type": "code",
   "execution_count": null,
   "metadata": {},
   "outputs": [],
   "source": [
    "# the variables do not need to be assigned before hand\n",
    "print(\"\"\"\n",
    "This is a long string over\n",
    "multiple lines. But I can still \n",
    "insert \"{}\" here or \"{}\" here, \n",
    "it's easy as {}.\n",
    "\"\"\".format('dog', 'cat', 'pie'))"
   ]
  },
  {
   "cell_type": "code",
   "execution_count": null,
   "metadata": {},
   "outputs": [],
   "source": [
    "# You can substitute strings, ints, floats, etc.\n",
    "print(\"the final answer is: {}\".format(0.00123))"
   ]
  },
  {
   "cell_type": "markdown",
   "metadata": {},
   "source": [
    "### F-strings\n",
    "In the fstring format you need to add an 'f' before the string, and then it will allow you to substitute variables into the string simply by inserting them directory into the string inside of curly brackets. "
   ]
  },
  {
   "cell_type": "code",
   "execution_count": null,
   "metadata": {},
   "outputs": [],
   "source": [
    "# f-strings works great for a one-line string\n",
    "dog = \"dog\"\n",
    "cat = \"cat\"\n",
    "print(f\"the {dog} is meaner than the {cat}\")"
   ]
  },
  {
   "cell_type": "code",
   "execution_count": null,
   "metadata": {},
   "outputs": [],
   "source": [
    "# f-strings \n",
    "print(f\"\"\"\n",
    "This is a long string over\n",
    "multiple lines. But I still want to \n",
    "insert \"{dog}\" here or \"{cat}\" here.\n",
    "\"\"\")"
   ]
  },
  {
   "cell_type": "markdown",
   "metadata": {},
   "source": [
    "### Parsing a string document\n",
    "In many cases an entire data set, or document page, will be stored as a string, and so it is really useful to know some common workflows for parsing strings of text into other usable forms. \n",
    "\n"
   ]
  },
  {
   "cell_type": "code",
   "execution_count": null,
   "metadata": {},
   "outputs": [],
   "source": [
    "# a string that is like a full page document\n",
    "page = \"\"\"\n",
    "This is a multi-line document.\n",
    "This is the second line.\n",
    "The last line is here.\n",
    "\"\"\""
   ]
  },
  {
   "cell_type": "code",
   "execution_count": null,
   "metadata": {},
   "outputs": [],
   "source": [
    "# the string variable looks like this. Newlines are represented as '\\n'\n",
    "page"
   ]
  },
  {
   "cell_type": "code",
   "execution_count": null,
   "metadata": {},
   "outputs": [],
   "source": [
    "# strip() removes the newline characters at the beginning and end\n",
    "page.strip()"
   ]
  },
  {
   "cell_type": "code",
   "execution_count": null,
   "metadata": {},
   "outputs": [],
   "source": [
    "# split can take an argument to split on a specific character .\n",
    "# Here we enter '\\n' to split on new lines. \n",
    "# This parses the string into a 'list' object of lines. \n",
    "# We'll discuss lists more later. \n",
    "page.strip().split('\\n')"
   ]
  },
  {
   "cell_type": "markdown",
   "metadata": {},
   "source": [
    "### Details on strings versus bytes\n",
    "Although strings seem like a simple data type, being just characters of text, when you dive in deeper you find they are actually quite complex. This is particularly true in Python3 which, as opposed to Python2, has two distinct types called `strings` and `bytes`, which I have been referring to so far simply as strings. Technically, bytes are the representations of text that can be written to your hard disk, whereas strings are simply a mapping of those bytes to a certain type of decoding. In this way, the same set of bytes can represent different strings depending on the encoding type. This is particularly useful for representing the full range of characters from non-latin based characters, and emojis, and other things that exist in the wider world of text. Simply, a string is for showing to humans while a bytestring is for storing on disk. Let's see some examples. "
   ]
  },
  {
   "cell_type": "code",
   "execution_count": null,
   "metadata": {},
   "outputs": [],
   "source": [
    "# define a unicode string.\n",
    "\"a string\""
   ]
  },
  {
   "cell_type": "code",
   "execution_count": null,
   "metadata": {},
   "outputs": [],
   "source": [
    "# explicitly define a unicode string\n",
    "u\"a unicode string\""
   ]
  },
  {
   "cell_type": "code",
   "execution_count": null,
   "metadata": {},
   "outputs": [],
   "source": [
    "# explicitly define a byte string\n",
    "b\"a byte string\""
   ]
  },
  {
   "cell_type": "markdown",
   "metadata": {},
   "source": [
    "You're probably thinking, huh, these all look the same so far. That's true. It's because the default encoding for strings is called `\"utf-8\"`. Strings are simply the utf-8 representation of a byte string. What if we decode the bytestring with a different encoding?"
   ]
  },
  {
   "cell_type": "code",
   "execution_count": null,
   "metadata": {},
   "outputs": [],
   "source": [
    "bb = b\"a unicode string\"\n",
    "\n",
    "print(f\"\"\"\n",
    "this is bb decoded with utf-8:  '{bb.decode(\"utf-8\")}'\n",
    "this is bb decoded with utf-16: '{bb.decode(\"utf-16\")}'\n",
    "\"\"\")"
   ]
  },
  {
   "cell_type": "code",
   "execution_count": null,
   "metadata": {},
   "outputs": [],
   "source": [
    "# encode this string back into a bytestring\n",
    "print('中文'.encode('utf-8'))"
   ]
  },
  {
   "cell_type": "code",
   "execution_count": null,
   "metadata": {},
   "outputs": [],
   "source": [
    "# decde this bytestring back into a utf-16 string\n",
    "b'\\xcf\\x84o\\xcf\\x81\\xce\\xbdo\\xcf\\x82'.decode('utf-16')"
   ]
  },
  {
   "cell_type": "markdown",
   "metadata": {},
   "source": [
    "The bytes versus strings concept is a bit complex, and it is OK if you don't fully grasp all of it right now. For the most part, if you are only working with simple unicode characters, the only thing you need to know about bytes for now that you can use the `.decode()` function call to convert them back to strings."
   ]
  },
  {
   "cell_type": "markdown",
   "metadata": {},
   "source": [
    "### Comments (#)\n",
    "Written code often contains comment strings or lines. These are not  meant to be interpreted by the program, but instead to provide hints to the person reading the code. You've seen this already in the lecture notes and example code we have examined, including in most cells of this notebook. You can see that the jupyter notebook interpreter colors comments as a lighter blue-grey color. In the examples below you can see that the comments are not interpreted when written in-line either. "
   ]
  },
  {
   "cell_type": "code",
   "execution_count": null,
   "metadata": {},
   "outputs": [],
   "source": [
    "newstring = \"a new string\"            ## creating a new string variable\n",
    "newstring = newstring.capitalize()    ## return capiltalized version\n",
    "newstring.startswith(\"A\")             ## ask whether it starts with an \"A\""
   ]
  },
  {
   "cell_type": "markdown",
   "metadata": {},
   "source": [
    "### Using print() for debugging\n",
    "\n",
    "A common use for the `print()` function when writing code is to use it for *debugging*. Essentially, this is a way of asking \"what is happening in the code right now?\". It is a good way to ensure that the code is running how you want it to, or to find the bugs in your code if they exist. We'll use `print` in this way below while discussing `for-loops`. "
   ]
  },
  {
   "cell_type": "markdown",
   "metadata": {},
   "source": [
    "### Strings are iterable\n",
    "Strings, like many other Python data objects, are *iterable*, which means that we can sample sequential elements from them. The elements in a string are bytes (i.e., characters). We can write a for-loop like below to iterate over the elements in the string object. \n",
    "\n",
    "A `for-loop` is a very common procedure in programming. It is used to repeat some procedure a specified number of times. The syntax for writing a for-loop in python is `for x in y:` where `x` becomes a variable name that will be updated every loop. The `y` variable must be an iterable object, such as a string. This line must end with a colon, and the next line must be indented in. By convention, indentation is usually 4 spaces in Python."
   ]
  },
  {
   "cell_type": "code",
   "execution_count": null,
   "metadata": {},
   "outputs": [],
   "source": [
    "## define a string variable\n",
    "stringvar = \"apples orange grapes\"\n",
    "\n",
    "## a for-loop iterating over elements in stringvar\n",
    "for x in stringvar:\n",
    "    print(x)"
   ]
  },
  {
   "cell_type": "markdown",
   "metadata": {},
   "source": [
    "### More on for-loops\n",
    "We've learned about operators for things like addition, subtraction, and for performing comparisons, such as `=`, `>`, and `<`. Below we combine these in a for-loop to perform a more complex operation. Following the format we used above to write a for-loop, it's important to recognize that the variable in the loop is being reassigned on every iteration. In this loop we name the variable `char`, and if `char` then test if `char` is a vowel by asking if it `is in` a string that contains only vowel characters. If the `==` comparison returns True then the print function is called."
   ]
  },
  {
   "cell_type": "code",
   "execution_count": null,
   "metadata": {},
   "outputs": [],
   "source": [
    "## find vowels in stringvar\n",
    "for char in stringvar:\n",
    "    for vowel in \"aeiou\":\n",
    "        if char == vowel:\n",
    "            print(char)"
   ]
  },
  {
   "cell_type": "markdown",
   "metadata": {},
   "source": [
    "### A simpler way to do the same thing"
   ]
  },
  {
   "cell_type": "code",
   "execution_count": null,
   "metadata": {},
   "outputs": [],
   "source": [
    "## find vowels in stringvar\n",
    "for char in stringvar:\n",
    "    if char in \"aeiou\":\n",
    "        print(char)"
   ]
  },
  {
   "cell_type": "markdown",
   "metadata": {},
   "source": [
    "# Challenges"
   ]
  },
  {
   "cell_type": "markdown",
   "metadata": {},
   "source": [
    "<div class=\"alert alert-success\">\n",
    "    Try to complete all of the challenges below.\n",
    "</div>"
   ]
  },
  {
   "cell_type": "markdown",
   "metadata": {},
   "source": [
    "A. Create a variable named 'varstring' and assign it the value \"apples orange grapes\"\n"
   ]
  },
  {
   "cell_type": "code",
   "execution_count": null,
   "metadata": {},
   "outputs": [],
   "source": [
    "varstring = \"apples oranges grapes\""
   ]
  },
  {
   "cell_type": "markdown",
   "metadata": {},
   "source": [
    "B. Use indexing to create a new variable of only the first two fruits\n"
   ]
  },
  {
   "cell_type": "code",
   "execution_count": null,
   "metadata": {},
   "outputs": [],
   "source": [
    "firstTwo = varstring[0:14]"
   ]
  },
  {
   "cell_type": "markdown",
   "metadata": {},
   "source": [
    "C. Use indexing to create a new variable of only the last two fruits\n"
   ]
  },
  {
   "cell_type": "code",
   "execution_count": null,
   "metadata": {},
   "outputs": [],
   "source": [
    "lastTwo = varstring[7:]"
   ]
  },
  {
   "cell_type": "markdown",
   "metadata": {},
   "source": [
    "D. Split the string on whitespace to create a list\n"
   ]
  },
  {
   "cell_type": "code",
   "execution_count": null,
   "metadata": {},
   "outputs": [],
   "source": [
    "newList = varstring.split()"
   ]
  },
  {
   "cell_type": "markdown",
   "metadata": {},
   "source": [
    "E. Iterate over varstring and print every element that is not a vowel\n"
   ]
  },
  {
   "cell_type": "code",
   "execution_count": null,
   "metadata": {},
   "outputs": [],
   "source": [
    "for char in varstring:\n",
    "    if char not in \"aeiou\":\n",
    "        print(char)"
   ]
  },
  {
   "cell_type": "markdown",
   "metadata": {},
   "source": [
    "F. Create a variable that is assigned the following string and print it: `They asked, \"what's your name?\"`"
   ]
  },
  {
   "cell_type": "code",
   "execution_count": null,
   "metadata": {},
   "outputs": [],
   "source": [
    "string = \"They asked, \\\"what's your name?\\\"\"\n",
    "print(string)"
   ]
  },
  {
   "cell_type": "markdown",
   "metadata": {},
   "source": [
    "G. Count the number of differences between these two DNA strings\n"
   ]
  },
  {
   "cell_type": "code",
   "execution_count": null,
   "metadata": {},
   "outputs": [],
   "source": [
    "dna1 = \"ACAGAGTTGCCAGGAGATGACAGAAAGGTGTGGGTTACAACTCTCTCTAATTTAAGGGCCAATTAACATT\"\n",
    "dna2 = \"ACAGAGTCGCCAGGAGATGACAGAAAGGTCTGGGTTACAACTCTCTCTAAAATAAGGGCCAATTAACGTT\""
   ]
  },
  {
   "cell_type": "code",
   "execution_count": null,
   "metadata": {},
   "outputs": [],
   "source": [
    "residue2 = 0\n",
    "count = 0\n",
    "for residue1 in dna1:\n",
    "    if residue1 != dna2[residue2]:\n",
    "        count+=1\n",
    "    residue2+=1\n",
    "\n",
    "print(count)"
   ]
  }
 ],
 "metadata": {
  "kernelspec": {
   "display_name": "Python 3 (ipykernel)",
   "language": "python",
   "name": "python3"
  },
  "language_info": {
   "codemirror_mode": {
    "name": "ipython",
    "version": 3
   },
   "file_extension": ".py",
   "mimetype": "text/x-python",
   "name": "python",
   "nbconvert_exporter": "python",
   "pygments_lexer": "ipython3",
   "version": "3.12.2"
  }
 },
 "nbformat": 4,
 "nbformat_minor": 4
}
