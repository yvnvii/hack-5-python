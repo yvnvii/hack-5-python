{
 "cells": [
  {
   "cell_type": "markdown",
   "id": "d64529de-10e0-42b9-a19e-085cce760382",
   "metadata": {},
   "source": [
    "# import necessary packags"
   ]
  },
  {
   "cell_type": "code",
   "execution_count": 116,
   "id": "e4c1be62-ae6d-42e5-863d-be6b4cbc8f65",
   "metadata": {},
   "outputs": [],
   "source": [
    "import os\n",
    "import requests\n",
    "import pandas as pd\n",
    "from scipy.stats import ttest_ind\n",
    "from collections import Counter"
   ]
  },
  {
   "cell_type": "markdown",
   "id": "c636968a-026c-4d5f-9ddb-b7165fdb4401",
   "metadata": {},
   "source": [
    "# get the data"
   ]
  },
  {
   "cell_type": "code",
   "execution_count": 117,
   "id": "500865f5-ed42-4f56-8195-b7a8017ba9e3",
   "metadata": {},
   "outputs": [],
   "source": [
    "url2 = \"http://eaton-lab.org/data/iris-data-dirty.csv\"\n",
    "with open(\"iris-data.csv\", \"w\") as file:\n",
    "    file.write(requests.get(url2).text)   "
   ]
  },
  {
   "cell_type": "markdown",
   "id": "ae4e9cf0-4509-4c81-a145-3d589ae5f16e",
   "metadata": {},
   "source": [
    "# get the data in panda dataframe"
   ]
  },
  {
   "cell_type": "code",
   "execution_count": 118,
   "id": "ce486d39-216b-415a-ab0b-7b3f9b04c3c5",
   "metadata": {},
   "outputs": [],
   "source": [
    "df = pd.read_csv(\"iris-data.csv\")"
   ]
  },
  {
   "cell_type": "code",
   "execution_count": 119,
   "id": "51c69e39-7067-4535-965d-e0a64428d6b7",
   "metadata": {},
   "outputs": [
    {
     "name": "stdout",
     "output_type": "stream",
     "text": [
      "     5.1  3.5  1.4  0.2     Iris-setosa\n",
      "0    4.9  3.0  1.4  0.2     Iris-setosa\n",
      "1    4.7  3.2  1.3  0.2     Iris-setosa\n",
      "2    4.6  3.1  1.5  0.2     Iris-setosa\n",
      "3    5.0  3.6  1.4  0.2     Iris-setosa\n",
      "4    5.4  3.9  1.7  0.4     Iris-setosa\n",
      "..   ...  ...  ...  ...             ...\n",
      "144  6.7  3.0  5.2  2.3  Iris-virginica\n",
      "145  6.3  2.5  5.0  1.9  Iris-virginica\n",
      "146  6.5  3.0  5.2  2.0  Iris-virginica\n",
      "147  6.2  3.4  5.4  2.3  Iris-virginica\n",
      "148  5.9  3.0  5.1  1.8  Iris-virginica\n",
      "\n",
      "[149 rows x 5 columns]\n"
     ]
    }
   ],
   "source": [
    "print(df)\n",
    "#length and width, petal length and width, and species ID"
   ]
  },
  {
   "cell_type": "markdown",
   "id": "f2915b69-6598-43d7-8e06-59f66757acd4",
   "metadata": {},
   "source": [
    "# apply column names"
   ]
  },
  {
   "cell_type": "code",
   "execution_count": 120,
   "id": "78f69cd2-8d52-42e7-836c-557c6aae7eb8",
   "metadata": {},
   "outputs": [],
   "source": [
    "column_names = [\"sepal length\",\"sepal width\",\"petal length\",\"petal width\",\"species ID\"]\n",
    "df = pd.read_csv(\"iris-data.csv\", names=column_names)"
   ]
  },
  {
   "cell_type": "code",
   "execution_count": 121,
   "id": "ab3383a2-8085-47cc-a3aa-981ec0d413bc",
   "metadata": {},
   "outputs": [
    {
     "name": "stdout",
     "output_type": "stream",
     "text": [
      "     sepal length  sepal width  petal length  petal width      species ID\n",
      "0             5.1          3.5           1.4          0.2     Iris-setosa\n",
      "1             4.9          3.0           1.4          0.2     Iris-setosa\n",
      "2             4.7          3.2           1.3          0.2     Iris-setosa\n",
      "3             4.6          3.1           1.5          0.2     Iris-setosa\n",
      "4             5.0          3.6           1.4          0.2     Iris-setosa\n",
      "..            ...          ...           ...          ...             ...\n",
      "145           6.7          3.0           5.2          2.3  Iris-virginica\n",
      "146           6.3          2.5           5.0          1.9  Iris-virginica\n",
      "147           6.5          3.0           5.2          2.0  Iris-virginica\n",
      "148           6.2          3.4           5.4          2.3  Iris-virginica\n",
      "149           5.9          3.0           5.1          1.8  Iris-virginica\n",
      "\n",
      "[150 rows x 5 columns]\n"
     ]
    }
   ],
   "source": [
    "print(df)"
   ]
  },
  {
   "cell_type": "markdown",
   "id": "c235ac82-eb14-4297-abfc-83e67de7d71d",
   "metadata": {},
   "source": [
    "# drop NAs"
   ]
  },
  {
   "cell_type": "code",
   "execution_count": 122,
   "id": "54b041ff-a7b8-4dcc-9b4a-3f566febd3ae",
   "metadata": {},
   "outputs": [
    {
     "name": "stdout",
     "output_type": "stream",
     "text": [
      "     sepal length  sepal width  petal length  petal width      species ID\n",
      "0             5.1          3.5           1.4          0.2     Iris-setosa\n",
      "1             4.9          3.0           1.4          0.2     Iris-setosa\n",
      "2             4.7          3.2           1.3          0.2     Iris-setosa\n",
      "3             4.6          3.1           1.5          0.2     Iris-setosa\n",
      "4             5.0          3.6           1.4          0.2     Iris-setosa\n",
      "..            ...          ...           ...          ...             ...\n",
      "145           6.7          3.0           5.2          2.3  Iris-virginica\n",
      "146           6.3          2.5           5.0          1.9  Iris-virginica\n",
      "147           6.5          3.0           5.2          2.0  Iris-virginica\n",
      "148           6.2          3.4           5.4          2.3  Iris-virginica\n",
      "149           5.9          3.0           5.1          1.8  Iris-virginica\n",
      "\n",
      "[148 rows x 5 columns]\n"
     ]
    }
   ],
   "source": [
    "df = df.dropna()\n",
    "print(df)"
   ]
  },
  {
   "cell_type": "markdown",
   "id": "557e8986-eba4-414b-b436-ce2cf6add0aa",
   "metadata": {},
   "source": [
    "# replace misspelt species IDs"
   ]
  },
  {
   "cell_type": "code",
   "execution_count": 123,
   "id": "299017f1-9187-4caa-8736-7d091171e42e",
   "metadata": {},
   "outputs": [
    {
     "name": "stdout",
     "output_type": "stream",
     "text": [
      "49 Iris-setosa\n",
      "1 Iris-setsa\n",
      "1 Iris-versicolour\n",
      "47 Iris-versicolor\n",
      "50 Iris-virginica\n",
      "\n",
      "\n",
      "50 Iris-setosa\n",
      "48 Iris-versicolor\n",
      "50 Iris-virginica\n"
     ]
    }
   ],
   "source": [
    "species_list = df['species ID'].tolist()\n",
    "species_counts = Counter(species_list)\n",
    "for species, count in species_counts.items():\n",
    "    print(f'{count} {species}')\n",
    "\n",
    "df['species ID'] = df['species ID'].str.strip().replace(\"Iris-setsa\",\"Iris-setosa\")\n",
    "df['species ID'] = df['species ID'].str.strip().replace(\"Iris-versicolour\", \"Iris-versicolor\")\n",
    "\n",
    "species_list = df['species ID'].tolist()\n",
    "species_counts = Counter(species_list)\n",
    "\n",
    "print(\"\\n\")\n",
    "\n",
    "for species, count in species_counts.items():\n",
    "    print(f'{count} {species}')\n"
   ]
  },
  {
   "cell_type": "code",
   "execution_count": 124,
   "id": "5f46a416-407d-4089-812a-129384b2ffeb",
   "metadata": {},
   "outputs": [
    {
     "data": {
      "text/html": [
       "<div>\n",
       "<style scoped>\n",
       "    .dataframe tbody tr th:only-of-type {\n",
       "        vertical-align: middle;\n",
       "    }\n",
       "\n",
       "    .dataframe tbody tr th {\n",
       "        vertical-align: top;\n",
       "    }\n",
       "\n",
       "    .dataframe thead th {\n",
       "        text-align: right;\n",
       "    }\n",
       "</style>\n",
       "<table border=\"1\" class=\"dataframe\">\n",
       "  <thead>\n",
       "    <tr style=\"text-align: right;\">\n",
       "      <th></th>\n",
       "      <th>sepal length</th>\n",
       "      <th>sepal width</th>\n",
       "      <th>petal length</th>\n",
       "      <th>petal width</th>\n",
       "    </tr>\n",
       "  </thead>\n",
       "  <tbody>\n",
       "    <tr>\n",
       "      <th>count</th>\n",
       "      <td>148.000000</td>\n",
       "      <td>148.000000</td>\n",
       "      <td>148.000000</td>\n",
       "      <td>148.000000</td>\n",
       "    </tr>\n",
       "    <tr>\n",
       "      <th>mean</th>\n",
       "      <td>5.841892</td>\n",
       "      <td>3.058108</td>\n",
       "      <td>3.748649</td>\n",
       "      <td>1.195946</td>\n",
       "    </tr>\n",
       "    <tr>\n",
       "      <th>std</th>\n",
       "      <td>0.832586</td>\n",
       "      <td>0.434094</td>\n",
       "      <td>1.773635</td>\n",
       "      <td>0.767882</td>\n",
       "    </tr>\n",
       "    <tr>\n",
       "      <th>min</th>\n",
       "      <td>4.300000</td>\n",
       "      <td>2.000000</td>\n",
       "      <td>1.000000</td>\n",
       "      <td>0.100000</td>\n",
       "    </tr>\n",
       "    <tr>\n",
       "      <th>25%</th>\n",
       "      <td>5.100000</td>\n",
       "      <td>2.800000</td>\n",
       "      <td>1.575000</td>\n",
       "      <td>0.300000</td>\n",
       "    </tr>\n",
       "    <tr>\n",
       "      <th>50%</th>\n",
       "      <td>5.800000</td>\n",
       "      <td>3.000000</td>\n",
       "      <td>4.350000</td>\n",
       "      <td>1.300000</td>\n",
       "    </tr>\n",
       "    <tr>\n",
       "      <th>75%</th>\n",
       "      <td>6.400000</td>\n",
       "      <td>3.300000</td>\n",
       "      <td>5.100000</td>\n",
       "      <td>1.800000</td>\n",
       "    </tr>\n",
       "    <tr>\n",
       "      <th>max</th>\n",
       "      <td>7.900000</td>\n",
       "      <td>4.400000</td>\n",
       "      <td>6.900000</td>\n",
       "      <td>2.500000</td>\n",
       "    </tr>\n",
       "  </tbody>\n",
       "</table>\n",
       "</div>"
      ],
      "text/plain": [
       "       sepal length  sepal width  petal length  petal width\n",
       "count    148.000000   148.000000    148.000000   148.000000\n",
       "mean       5.841892     3.058108      3.748649     1.195946\n",
       "std        0.832586     0.434094      1.773635     0.767882\n",
       "min        4.300000     2.000000      1.000000     0.100000\n",
       "25%        5.100000     2.800000      1.575000     0.300000\n",
       "50%        5.800000     3.000000      4.350000     1.300000\n",
       "75%        6.400000     3.300000      5.100000     1.800000\n",
       "max        7.900000     4.400000      6.900000     2.500000"
      ]
     },
     "execution_count": 124,
     "metadata": {},
     "output_type": "execute_result"
    }
   ],
   "source": [
    "df.describe()"
   ]
  },
  {
   "cell_type": "markdown",
   "id": "5dc56efc-bd3c-413e-b23a-f9dca399e926",
   "metadata": {},
   "source": [
    "# group by species ID"
   ]
  },
  {
   "cell_type": "code",
   "execution_count": 125,
   "id": "64326adf-5fb5-40f5-8590-2306f4f9b45e",
   "metadata": {},
   "outputs": [],
   "source": [
    "grouped = df.groupby(\"species ID\")"
   ]
  },
  {
   "cell_type": "code",
   "execution_count": 126,
   "id": "fe97ad20-d462-4c18-82e6-35690d5b2220",
   "metadata": {},
   "outputs": [
    {
     "name": "stdout",
     "output_type": "stream",
     "text": [
      "Summary statistics for Iris-setosa: \n",
      "       sepal length  sepal width  petal length  petal width\n",
      "count      50.00000    50.000000     50.000000     50.00000\n",
      "mean        5.00600     3.418000      1.464000      0.24400\n",
      "std         0.35249     0.381024      0.173511      0.10721\n",
      "min         4.30000     2.300000      1.000000      0.10000\n",
      "25%         4.80000     3.125000      1.400000      0.20000\n",
      "50%         5.00000     3.400000      1.500000      0.20000\n",
      "75%         5.20000     3.675000      1.575000      0.30000\n",
      "max         5.80000     4.400000      1.900000      0.60000\n",
      "\n",
      "\n",
      "Summary statistics for Iris-versicolor: \n",
      "       sepal length  sepal width  petal length  petal width\n",
      "count     48.000000    48.000000     48.000000    48.000000\n",
      "mean       5.935417     2.770833      4.250000     1.322917\n",
      "std        0.522062     0.316200      0.469948     0.200255\n",
      "min        4.900000     2.000000      3.000000     1.000000\n",
      "25%        5.600000     2.575000      4.000000     1.200000\n",
      "50%        5.900000     2.800000      4.350000     1.300000\n",
      "75%        6.300000     3.000000      4.600000     1.500000\n",
      "max        7.000000     3.400000      5.100000     1.800000\n",
      "\n",
      "\n",
      "Summary statistics for Iris-virginica: \n",
      "       sepal length  sepal width  petal length  petal width\n",
      "count      50.00000    50.000000     50.000000     50.00000\n",
      "mean        6.58800     2.974000      5.552000      2.02600\n",
      "std         0.63588     0.322497      0.551895      0.27465\n",
      "min         4.90000     2.200000      4.500000      1.40000\n",
      "25%         6.22500     2.800000      5.100000      1.80000\n",
      "50%         6.50000     3.000000      5.550000      2.00000\n",
      "75%         6.90000     3.175000      5.875000      2.30000\n",
      "max         7.90000     3.800000      6.900000      2.50000\n",
      "\n",
      "\n"
     ]
    }
   ],
   "source": [
    "for species, group in grouped:\n",
    "    print(f\"Summary statistics for {species}: \")\n",
    "    print(group.describe())\n",
    "    print(\"\\n\")"
   ]
  },
  {
   "cell_type": "markdown",
   "id": "5b9eb5fd-68f2-4e5a-9297-49da338792d1",
   "metadata": {},
   "source": [
    "# thought\n",
    "##### virginica has the largest sepal length\n",
    "##### setosa has the largest sepal width\n",
    "##### virginica has the largest petal length\n",
    "##### virginica has the largest petal width"
   ]
  },
  {
   "cell_type": "markdown",
   "id": "8d45eed4-851e-4016-bbab-bce017c1d81e",
   "metadata": {},
   "source": [
    "# statistical comparison\n",
    "##### Challenge: Perform formal tests for differences in group means using ttest_ind from the scipy.stats module (you may need to conda install -c conda-forge scipy first. Hint: You can access the data for a specific group using the get_group() method of the groupby object, e.g. if I called my groupby object gb I could say `gb.get_group(\"Iris-setosa\") and it would return a DataFrame for the data for only these samples)."
   ]
  },
  {
   "cell_type": "code",
   "execution_count": 127,
   "id": "1c069b6d-740a-4bf4-b251-2f2dbc61412f",
   "metadata": {},
   "outputs": [],
   "source": [
    "setosa = grouped.get_group(\"Iris-setosa\")\n",
    "versicolor = grouped.get_group(\"Iris-versicolor\")\n",
    "virginica = grouped.get_group(\"Iris-virginica\")"
   ]
  },
  {
   "cell_type": "code",
   "execution_count": 132,
   "id": "4122d00d-e45e-4508-a647-dfdb22e53c83",
   "metadata": {},
   "outputs": [
    {
     "name": "stdout",
     "output_type": "stream",
     "text": [
      "difference in means for sepal length:\n",
      "setosa vs versicolor : t-value = -10.3665, p-value = 0.0000\n",
      "setosa vs versicolor : t-value = -5.5399, p-value = 0.0000\n",
      "setosa vs versicolor : t-value = 15.3862, p-value = 0.0000\n",
      "\n",
      "\n",
      "difference in means for sepal width:\n",
      "setosa vs versicolor : t-value = 9.1299, p-value = 0.0000\n",
      "setosa vs versicolor : t-value = -3.1475, p-value = 0.0022\n",
      "setosa vs versicolor : t-value = -6.2894, p-value = 0.0000\n",
      "\n",
      "\n",
      "difference in means for petal length:\n",
      "setosa vs versicolor : t-value = -39.2333, p-value = 0.0000\n",
      "setosa vs versicolor : t-value = -12.5498, p-value = 0.0000\n",
      "setosa vs versicolor : t-value = 49.9657, p-value = 0.0000\n",
      "\n",
      "\n",
      "difference in means for petal width:\n",
      "setosa vs versicolor : t-value = -33.4358, p-value = 0.0000\n",
      "setosa vs versicolor : t-value = -14.4304, p-value = 0.0000\n",
      "setosa vs versicolor : t-value = 42.7382, p-value = 0.0000\n",
      "\n",
      "\n"
     ]
    }
   ],
   "source": [
    "for col in column_names[:4]:\n",
    "    print(f\"difference in means for {col}:\")\n",
    "    tval, pval = ttest_ind(setosa[col], versicolor[col])\n",
    "    print(f\"setosa vs versicolor : t-value = {tval:.4f}, p-value = {pval:.4f}\")\n",
    "\n",
    "    tval, pval = ttest_ind(versicolor[col], virginica[col])\n",
    "    print(f\"setosa vs versicolor : t-value = {tval:.4f}, p-value = {pval:.4f}\")\n",
    "\n",
    "    tval, pval = ttest_ind(virginica[col], setosa[col])\n",
    "    print(f\"setosa vs versicolor : t-value = {tval:.4f}, p-value = {pval:.4f}\")\n",
    "\n",
    "    print(\"\\n\")"
   ]
  },
  {
   "cell_type": "code",
   "execution_count": null,
   "id": "d3eede91-f374-4f62-8e3c-3fd05bd79385",
   "metadata": {},
   "outputs": [],
   "source": []
  },
  {
   "cell_type": "code",
   "execution_count": null,
   "id": "ae5bab25-867e-4a26-80f2-fe683d65d17b",
   "metadata": {},
   "outputs": [],
   "source": []
  },
  {
   "cell_type": "code",
   "execution_count": null,
   "id": "d54f5c63-8d1b-40e9-ae16-ffcc43bf7e9b",
   "metadata": {},
   "outputs": [],
   "source": []
  }
 ],
 "metadata": {
  "kernelspec": {
   "display_name": "Python 3 (ipykernel)",
   "language": "python",
   "name": "python3"
  },
  "language_info": {
   "codemirror_mode": {
    "name": "ipython",
    "version": 3
   },
   "file_extension": ".py",
   "mimetype": "text/x-python",
   "name": "python",
   "nbconvert_exporter": "python",
   "pygments_lexer": "ipython3",
   "version": "3.12.2"
  }
 },
 "nbformat": 4,
 "nbformat_minor": 5
}
