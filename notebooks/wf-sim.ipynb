{
 "cells": [
  {
   "cell_type": "code",
   "execution_count": 1,
   "id": "c176eecb-380b-45de-b71e-2f2ae6ea4dcc",
   "metadata": {},
   "outputs": [],
   "source": [
    "import random"
   ]
  },
  {
   "cell_type": "code",
   "execution_count": 2,
   "id": "eb994fcb-2054-40f8-b090-ab86e633e81b",
   "metadata": {},
   "outputs": [],
   "source": [
    "import numpy as np"
   ]
  },
  {
   "cell_type": "code",
   "execution_count": 3,
   "id": "34ff5c75-63ba-4255-8d5c-cae3dc6a2219",
   "metadata": {},
   "outputs": [],
   "source": [
    "def init(N, f): #N = the size of the population in number of haploid individuals, f = the frequency of derived alleles\n",
    "    mylist = []\n",
    "    for A in range(int(N*f)):\n",
    "        mylist.append(1)\n",
    "    for a in range(int(N-(N*f))):\n",
    "        mylist.append(0)\n",
    "    return mylist"
   ]
  },
  {
   "cell_type": "code",
   "execution_count": 4,
   "id": "19e5421d-7805-41e2-9dba-6ce300f6b732",
   "metadata": {},
   "outputs": [],
   "source": [
    "def step(pop):\n",
    "    num0 = 0\n",
    "    num1 = 0\n",
    "    for i in pop:\n",
    "        if i == 0:\n",
    "            num0 +=1\n",
    "        if i == 1:\n",
    "            num1 +=1\n",
    "    f = num1/(num0+num1)\n",
    "    numlist = [1, 0]\n",
    "    newlist = random.choices(numlist, weights = [f, 1-f], k = len(pop))\n",
    "    return newlist"
   ]
  },
  {
   "cell_type": "code",
   "execution_count": 5,
   "id": "f698bdca-1e30-4ba3-9286-151c90e1565b",
   "metadata": {},
   "outputs": [
    {
     "name": "stdout",
     "output_type": "stream",
     "text": [
      "generations: 25; freq(a): 0.5\n"
     ]
    }
   ],
   "source": [
    "def wf(N, f, gen): #N=population size, f=frequency, gen=numbebr of generations to run\n",
    "    initial = init(N, f)\n",
    "    newlist = initial\n",
    "    for i in range(2,gen+1):\n",
    "        newlist = step(newlist)\n",
    "    num1 = 0\n",
    "    num0 = 0\n",
    "    for j in newlist:\n",
    "        if j == 1:\n",
    "            num1+=1\n",
    "        if j == 0:\n",
    "            num0+=1\n",
    "    freq = num1/(num0+num1)\n",
    "    print(f\"generations: {gen}; freq(a): {freq}\")\n",
    "\n",
    "wf(10, 0.5, 25)"
   ]
  },
  {
   "cell_type": "code",
   "execution_count": 12,
   "id": "5204f99a-8185-4e86-ad60-d2ec24d67f9f",
   "metadata": {},
   "outputs": [],
   "source": [
    "class Population:\n",
    "    def __init__(self,N = 10,f = 0.2, with_np = False):\n",
    "        self.N = N\n",
    "        self.f = f\n",
    "        self.freq = []\n",
    "        self.with_np = with_np\n",
    "        derived_count = round(N*f)\n",
    "\n",
    "        if(with_np == True):\n",
    "            #self.pop as numpy\n",
    "            arr0 = np.zeros(N-derived_count, dtype =int)\n",
    "            arr1 = np.ones(derived_count, dtype = int)\n",
    "            self.pop = np.concatenate([arr0, arr1])\n",
    "        else:\n",
    "            self.pop = [0]*(N - derived_count)+[1]*derived_count\n",
    "\n",
    "    def __repr__(self):\n",
    "        return f\"Population(N={self.N}, f={self.f})\"\n",
    "\n",
    "    def step(self, ngens = 1):\n",
    "\n",
    "        if self.with_np == True:\n",
    "            for i in range (ngens):\n",
    "                self.pop = np.random.choice(self.pop, self.N)\n",
    "                self.freq.append(np.mean(self.pop))\n",
    "                if self.isMonomorphic():\n",
    "                    break\n",
    "        else:            \n",
    "            for i in range (ngens):\n",
    "                self.pop = random.choices(self.pop, k=self.N)\n",
    "                self.freq.append(sum(self.pop)/self.N)\n",
    "                if self.isMonomorphic():\n",
    "                    break\n",
    "\n",
    "    def isMonomorphic(self):\n",
    "        if (sum(self.pop) == 0 or sum(self.pop) == len(self.pop)):\n",
    "            return True\n",
    "        else:\n",
    "            return False"
   ]
  },
  {
   "cell_type": "code",
   "execution_count": 7,
   "id": "46a1c505-3fa0-42c0-b5e0-9628da9427a1",
   "metadata": {},
   "outputs": [
    {
     "data": {
      "text/plain": [
       "[0.3, 0.7, 0.8, 0.9, 0.9, 1.0]"
      ]
     },
     "execution_count": 7,
     "metadata": {},
     "output_type": "execute_result"
    }
   ],
   "source": [
    "p = Population()\n",
    "p\n",
    "p.step(ngens = 10)\n",
    "p.pop\n",
    "p.freq\n"
   ]
  },
  {
   "cell_type": "code",
   "execution_count": 8,
   "id": "cfa01df1-46ce-4d6e-804c-9dccf9e303ca",
   "metadata": {},
   "outputs": [
    {
     "data": {
      "text/plain": [
       "Population(N=1000000000, f=0.2)"
      ]
     },
     "execution_count": 8,
     "metadata": {},
     "output_type": "execute_result"
    }
   ],
   "source": [
    "#make the population large to evaluate performance for large populations\n",
    "ptest = Population(1000000000)\n",
    "ptest"
   ]
  },
  {
   "cell_type": "code",
   "execution_count": 9,
   "id": "237ad7ca-02f3-4d1a-ba59-815ca487ca0e",
   "metadata": {},
   "outputs": [
    {
     "name": "stdout",
     "output_type": "stream",
     "text": [
      "15.2 ns ± 2.48 ns per loop (mean ± std. dev. of 7 runs, 100,000,000 loops each)\n"
     ]
    }
   ],
   "source": [
    "%%timeit\n",
    "ptest.N"
   ]
  },
  {
   "cell_type": "code",
   "execution_count": 10,
   "id": "f561b5ed-d54d-49d3-8f81-6a5b5537ed82",
   "metadata": {},
   "outputs": [
    {
     "name": "stdout",
     "output_type": "stream",
     "text": [
      "35.9 ns ± 1.88 ns per loop (mean ± std. dev. of 7 runs, 10,000,000 loops each)\n"
     ]
    }
   ],
   "source": [
    "%%timeit\n",
    "len(ptest.pop)"
   ]
  },
  {
   "cell_type": "code",
   "execution_count": 13,
   "id": "8904f60f-da0a-4661-87ce-31578717c493",
   "metadata": {},
   "outputs": [],
   "source": [
    "pop = Population(N = 100, with_np = False)\n",
    "pop_np = Population(N = 100, with_np = True)"
   ]
  },
  {
   "cell_type": "code",
   "execution_count": null,
   "id": "e04d4390-53c6-4199-b041-7e0a88ca7ce4",
   "metadata": {},
   "outputs": [],
   "source": [
    "%%timeit\n",
    "pop.step(1000)"
   ]
  },
  {
   "cell_type": "code",
   "execution_count": null,
   "id": "9330ecb8-24bc-43f3-ade0-486f2f0761e7",
   "metadata": {},
   "outputs": [],
   "source": [
    "%%timeit\n",
    "pop_np.step(1000)"
   ]
  },
  {
   "cell_type": "markdown",
   "id": "b2c2e46f-0b5a-4da7-9885-7e532e4516a6",
   "metadata": {},
   "source": [
    "# Evaluate the performance of the numpy code across a range of population sizes and numbers of generations. \n",
    "# In a new cell use markdown to record and document your findings. What did you find and what do you conclude from this?"
   ]
  },
  {
   "cell_type": "markdown",
   "id": "11b830b8-9cb8-4e8e-a008-e5d8fbdf5eaf",
   "metadata": {},
   "source": [
    "population size small && generation size small"
   ]
  },
  {
   "cell_type": "code",
   "execution_count": 14,
   "id": "45bb5868-5b12-46f0-a8df-d14e795e0ace",
   "metadata": {},
   "outputs": [],
   "source": [
    "popSgenS = Population(N = 10)\n",
    "popSgenS_np = Population(N = 10, with_np = True)"
   ]
  },
  {
   "cell_type": "code",
   "execution_count": 19,
   "id": "0f3e2252-3801-4a87-a67a-91f98a0b73d2",
   "metadata": {},
   "outputs": [
    {
     "name": "stdout",
     "output_type": "stream",
     "text": [
      "1.7 μs ± 97 ns per loop (mean ± std. dev. of 7 runs, 1,000,000 loops each)\n"
     ]
    }
   ],
   "source": [
    "%%timeit\n",
    "popSgenS.step(10)"
   ]
  },
  {
   "cell_type": "code",
   "execution_count": 20,
   "id": "e5167e74-83b7-4af7-8c79-7c97dcd55065",
   "metadata": {},
   "outputs": [
    {
     "name": "stdout",
     "output_type": "stream",
     "text": [
      "35.4 μs ± 2.11 μs per loop (mean ± std. dev. of 7 runs, 1 loop each)\n"
     ]
    }
   ],
   "source": [
    "%%timeit\n",
    "popSgenS_np.step(10)"
   ]
  },
  {
   "cell_type": "markdown",
   "id": "7604a71e-81e9-4386-b918-51ff7e42996a",
   "metadata": {},
   "source": [
    "population size small && generation size large"
   ]
  },
  {
   "cell_type": "code",
   "execution_count": 15,
   "id": "aa120fbb-565a-4b27-ac7e-1bfc8d90941a",
   "metadata": {},
   "outputs": [],
   "source": [
    "popSgenL = Population(N = 10)\n",
    "popSgenL_np = Population(N = 10, with_np = True)"
   ]
  },
  {
   "cell_type": "code",
   "execution_count": 21,
   "id": "e85665eb-2b14-4b04-ad9d-d0488e0fdd0d",
   "metadata": {},
   "outputs": [
    {
     "name": "stdout",
     "output_type": "stream",
     "text": [
      "1.69 μs ± 60.4 ns per loop (mean ± std. dev. of 7 runs, 1,000,000 loops each)\n"
     ]
    }
   ],
   "source": [
    "%%timeit\n",
    "popSgenL.step(100)"
   ]
  },
  {
   "cell_type": "code",
   "execution_count": 22,
   "id": "fd0bc681-956d-4e55-9fed-f1b9a0da2d9f",
   "metadata": {},
   "outputs": [
    {
     "name": "stdout",
     "output_type": "stream",
     "text": [
      "17.5 μs ± 2.24 μs per loop (mean ± std. dev. of 7 runs, 100,000 loops each)\n"
     ]
    }
   ],
   "source": [
    "%%timeit\n",
    "popSgenL_np.step(100)"
   ]
  },
  {
   "cell_type": "markdown",
   "id": "0575bc02-db3e-4152-95de-b090740d58b0",
   "metadata": {},
   "source": [
    "population size large && generation size small"
   ]
  },
  {
   "cell_type": "code",
   "execution_count": 16,
   "id": "2a7dd30e-4825-4ad8-a86d-58d9abb59896",
   "metadata": {},
   "outputs": [],
   "source": [
    "popLgenS = Population(N = 100)\n",
    "popLgenS_np = Population(N = 100, with_np = True)"
   ]
  },
  {
   "cell_type": "code",
   "execution_count": 23,
   "id": "cf6e4e85-24cd-494b-b75e-fbbd5e436c69",
   "metadata": {},
   "outputs": [
    {
     "name": "stdout",
     "output_type": "stream",
     "text": [
      "9.84 μs ± 683 ns per loop (mean ± std. dev. of 7 runs, 100,000 loops each)\n"
     ]
    }
   ],
   "source": [
    "%%timeit\n",
    "popLgenS.step(10)"
   ]
  },
  {
   "cell_type": "code",
   "execution_count": 24,
   "id": "c9dae3d8-bd05-46fe-a0e4-3565b63f0d25",
   "metadata": {},
   "outputs": [
    {
     "name": "stdout",
     "output_type": "stream",
     "text": [
      "23.2 μs ± 378 ns per loop (mean ± std. dev. of 7 runs, 10,000 loops each)\n"
     ]
    }
   ],
   "source": [
    "%%timeit\n",
    "popLgenS_np.step(10)"
   ]
  },
  {
   "cell_type": "markdown",
   "id": "74fff8bc-229a-4af5-b303-29b7a413cfd6",
   "metadata": {},
   "source": [
    "population size large && generation size large"
   ]
  },
  {
   "cell_type": "code",
   "execution_count": 17,
   "id": "048a8e0e-532f-42d6-819f-887cadc692bf",
   "metadata": {},
   "outputs": [],
   "source": [
    "popLgenL = Population(N = 100)\n",
    "popLgenL_np = Population(N = 100, with_np = True)"
   ]
  },
  {
   "cell_type": "code",
   "execution_count": 25,
   "id": "64a916ff-aa22-447f-b5b5-c3db47f79c06",
   "metadata": {},
   "outputs": [
    {
     "name": "stdout",
     "output_type": "stream",
     "text": [
      "8.52 μs ± 20.8 ns per loop (mean ± std. dev. of 7 runs, 100,000 loops each)\n"
     ]
    }
   ],
   "source": [
    "%%timeit\n",
    "popLgenL.step(100)"
   ]
  },
  {
   "cell_type": "code",
   "execution_count": 26,
   "id": "95c3f262-542c-4e61-a1ba-0a017ceb85fe",
   "metadata": {},
   "outputs": [
    {
     "name": "stdout",
     "output_type": "stream",
     "text": [
      "30.9 μs ± 702 ns per loop (mean ± std. dev. of 7 runs, 10,000 loops each)\n"
     ]
    }
   ],
   "source": [
    "%%timeit\n",
    "popLgenL_np.step(100)"
   ]
  },
  {
   "cell_type": "code",
   "execution_count": null,
   "id": "4dcdca1a-9082-4373-9650-81bf43fbb7ea",
   "metadata": {},
   "outputs": [],
   "source": []
  }
 ],
 "metadata": {
  "kernelspec": {
   "display_name": "Python 3 (ipykernel)",
   "language": "python",
   "name": "python3"
  },
  "language_info": {
   "codemirror_mode": {
    "name": "ipython",
    "version": 3
   },
   "file_extension": ".py",
   "mimetype": "text/x-python",
   "name": "python",
   "nbconvert_exporter": "python",
   "pygments_lexer": "ipython3",
   "version": "3.12.2"
  }
 },
 "nbformat": 4,
 "nbformat_minor": 5
}
